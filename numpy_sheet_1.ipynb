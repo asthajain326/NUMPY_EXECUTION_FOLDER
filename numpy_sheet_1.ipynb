{
 "cells": [
  {
   "cell_type": "code",
   "execution_count": 2,
   "id": "a00c5014-dc7f-46f3-9cb4-7a5e84e9de08",
   "metadata": {},
   "outputs": [],
   "source": [
    "import numpy as np\n"
   ]
  },
  {
   "cell_type": "code",
   "execution_count": 3,
   "id": "67a0a432-3562-4998-919a-3a517a121e1b",
   "metadata": {},
   "outputs": [
    {
     "data": {
      "text/plain": [
       "array([1, 2, 3, 4, 5])"
      ]
     },
     "execution_count": 3,
     "metadata": {},
     "output_type": "execute_result"
    }
   ],
   "source": [
    "#creating numpy array/n-d arrays - using different ways\n",
    "arr1 = np.array([1,2,3,4,5])  #vector as an output\n",
    "arr1"
   ]
  },
  {
   "cell_type": "code",
   "execution_count": 4,
   "id": "5b3d3fb8-4571-46b0-a195-e5ff6946ba9b",
   "metadata": {},
   "outputs": [
    {
     "data": {
      "text/plain": [
       "numpy.ndarray"
      ]
     },
     "execution_count": 4,
     "metadata": {},
     "output_type": "execute_result"
    }
   ],
   "source": [
    "type(arr1)"
   ]
  },
  {
   "cell_type": "code",
   "execution_count": 6,
   "id": "725d67b1-cae5-444a-a941-c9327484cf94",
   "metadata": {},
   "outputs": [
    {
     "data": {
      "text/plain": [
       "array([[1, 2, 3],\n",
       "       [4, 5, 6]])"
      ]
     },
     "execution_count": 6,
     "metadata": {},
     "output_type": "execute_result"
    }
   ],
   "source": [
    "#2 - matrix as an output\n",
    "arr2 = np.array([[1,2,3],[4,5,6]])\n",
    "arr2"
   ]
  },
  {
   "cell_type": "code",
   "execution_count": 8,
   "id": "28df4288-9af3-4b61-bfc9-0dc85b7fe10f",
   "metadata": {},
   "outputs": [
    {
     "data": {
      "text/plain": [
       "array([[0., 0., 0.],\n",
       "       [0., 0., 0.]])"
      ]
     },
     "execution_count": 8,
     "metadata": {},
     "output_type": "execute_result"
    }
   ],
   "source": [
    "#3 - output me each element as a float value \n",
    "arr3 = np.zeros((2,3))\n",
    "arr3"
   ]
  },
  {
   "cell_type": "code",
   "execution_count": 9,
   "id": "2776ea9f-4eab-4bdd-bc72-e01a0b52519b",
   "metadata": {},
   "outputs": [
    {
     "data": {
      "text/plain": [
       "array([[1., 1., 1.],\n",
       "       [1., 1., 1.],\n",
       "       [1., 1., 1.]])"
      ]
     },
     "execution_count": 9,
     "metadata": {},
     "output_type": "execute_result"
    }
   ],
   "source": [
    "#4\n",
    "arr4 = np.ones((3,3))\n",
    "arr4"
   ]
  },
  {
   "cell_type": "code",
   "execution_count": 12,
   "id": "8c6c63e7-d813-455a-8e16-44300b68f750",
   "metadata": {},
   "outputs": [
    {
     "data": {
      "text/plain": [
       "array([[1., 0., 0., 0., 0.],\n",
       "       [0., 1., 0., 0., 0.],\n",
       "       [0., 0., 1., 0., 0.],\n",
       "       [0., 0., 0., 1., 0.],\n",
       "       [0., 0., 0., 0., 1.]])"
      ]
     },
     "execution_count": 12,
     "metadata": {},
     "output_type": "execute_result"
    }
   ],
   "source": [
    "#5 - just like identity matrix - all diagonals are 1\n",
    "arr5 = np.identity(5)\n",
    "arr5"
   ]
  },
  {
   "cell_type": "code",
   "execution_count": 16,
   "id": "1b85c01c-2c92-4c95-bbed-6ec7e280ced4",
   "metadata": {},
   "outputs": [
    {
     "data": {
      "text/plain": [
       "array([ 5,  7,  9, 11, 13, 15])"
      ]
     },
     "execution_count": 16,
     "metadata": {},
     "output_type": "execute_result"
    }
   ],
   "source": [
    "#6 - range generate list in a given range\n",
    "#arange generates an array in a given range\n",
    "#arr6 = np.arange(10)\n",
    "#arr6 = np.arange(5,16)\n",
    "arr6 = np.arange(5,16,2) #third parameter- optional (utne jumps arta h)\n",
    "arr6"
   ]
  },
  {
   "cell_type": "code",
   "execution_count": 21,
   "id": "a5afa98c-9067-4f19-a316-144877786f6f",
   "metadata": {},
   "outputs": [
    {
     "data": {
      "text/plain": [
       "array([10.        , 11.11111111, 12.22222222, 13.33333333, 14.44444444,\n",
       "       15.55555556, 16.66666667, 17.77777778, 18.88888889, 20.        ])"
      ]
     },
     "execution_count": 21,
     "metadata": {},
     "output_type": "execute_result"
    }
   ],
   "source": [
    "#7 - 3 inputs (lower range, upper range, jumps/equidistant points) , so all the points are linearly spaced\n",
    "arr7 = np.linspace(10,20,10)\n",
    "arr7"
   ]
  },
  {
   "cell_type": "code",
   "execution_count": 23,
   "id": "68f24a51-b799-479e-a29f-ad148071f826",
   "metadata": {},
   "outputs": [
    {
     "data": {
      "text/plain": [
       "array([10.        , 11.11111111, 12.22222222, 13.33333333, 14.44444444,\n",
       "       15.55555556, 16.66666667, 17.77777778, 18.88888889, 20.        ])"
      ]
     },
     "execution_count": 23,
     "metadata": {},
     "output_type": "execute_result"
    }
   ],
   "source": [
    "#8 copy method\n",
    "arr8 = arr7.copy()\n",
    "arr8"
   ]
  },
  {
   "cell_type": "markdown",
   "id": "0ec4187a-f5e8-4677-be64-2f1ae3295026",
   "metadata": {},
   "source": [
    "Properties and attributes\n",
    "1. shape\n",
    "2. n dim\n",
    "3. size\n",
    "4. itemsize\n",
    "5. Dtype\n",
    "6. astype()"
   ]
  },
  {
   "cell_type": "code",
   "execution_count": 25,
   "id": "07d502d3-130d-47a4-8360-70503fcf25b2",
   "metadata": {},
   "outputs": [
    {
     "data": {
      "text/plain": [
       "array([1, 2, 3, 4, 5])"
      ]
     },
     "execution_count": 25,
     "metadata": {},
     "output_type": "execute_result"
    }
   ],
   "source": [
    "arr1"
   ]
  },
  {
   "cell_type": "code",
   "execution_count": 26,
   "id": "2d3efcc4-ebb0-4b2d-ac68-b295f7bec4db",
   "metadata": {},
   "outputs": [
    {
     "data": {
      "text/plain": [
       "(5,)"
      ]
     },
     "execution_count": 26,
     "metadata": {},
     "output_type": "execute_result"
    }
   ],
   "source": [
    "arr1.shape"
   ]
  },
  {
   "cell_type": "code",
   "execution_count": 27,
   "id": "482f2de6-29c0-4064-bce4-548ef71e118a",
   "metadata": {},
   "outputs": [
    {
     "data": {
      "text/plain": [
       "(2, 3)"
      ]
     },
     "execution_count": 27,
     "metadata": {},
     "output_type": "execute_result"
    }
   ],
   "source": [
    "arr2.shape"
   ]
  },
  {
   "cell_type": "code",
   "execution_count": 29,
   "id": "6146d74c-ef69-49a4-8118-2463eb416aad",
   "metadata": {},
   "outputs": [
    {
     "data": {
      "text/plain": [
       "array([[[1, 2],\n",
       "        [3, 4]],\n",
       "\n",
       "       [[5, 6],\n",
       "        [7, 8]]])"
      ]
     },
     "execution_count": 29,
     "metadata": {},
     "output_type": "execute_result"
    }
   ],
   "source": [
    "arr9 = np.array([[[1,2],[3,4]],[[5,6],[7,8]]])\n",
    "arr9"
   ]
  },
  {
   "cell_type": "code",
   "execution_count": 30,
   "id": "19eef6c2-61c2-4b36-80c4-4017a2e53541",
   "metadata": {},
   "outputs": [
    {
     "data": {
      "text/plain": [
       "(2, 2, 2)"
      ]
     },
     "execution_count": 30,
     "metadata": {},
     "output_type": "execute_result"
    }
   ],
   "source": [
    "arr9.shape"
   ]
  },
  {
   "cell_type": "code",
   "execution_count": 31,
   "id": "6935602e-56a0-445c-ace9-9bfeb37a097e",
   "metadata": {},
   "outputs": [
    {
     "data": {
      "text/plain": [
       "3"
      ]
     },
     "execution_count": 31,
     "metadata": {},
     "output_type": "execute_result"
    }
   ],
   "source": [
    "arr9.ndim"
   ]
  },
  {
   "cell_type": "code",
   "execution_count": 32,
   "id": "4afee7b1-b71a-4195-b27b-5c51da5f66da",
   "metadata": {},
   "outputs": [
    {
     "data": {
      "text/plain": [
       "2"
      ]
     },
     "execution_count": 32,
     "metadata": {},
     "output_type": "execute_result"
    }
   ],
   "source": [
    "arr2.ndim"
   ]
  },
  {
   "cell_type": "code",
   "execution_count": 33,
   "id": "e6700c7e-3c8a-4e48-acbe-01d461947c5d",
   "metadata": {},
   "outputs": [
    {
     "data": {
      "text/plain": [
       "1"
      ]
     },
     "execution_count": 33,
     "metadata": {},
     "output_type": "execute_result"
    }
   ],
   "source": [
    "arr1.ndim"
   ]
  },
  {
   "cell_type": "code",
   "execution_count": 34,
   "id": "6715255b-b954-4d80-85a4-fd98e85b10c6",
   "metadata": {},
   "outputs": [
    {
     "data": {
      "text/plain": [
       "array([1, 2, 3, 4, 5])"
      ]
     },
     "execution_count": 34,
     "metadata": {},
     "output_type": "execute_result"
    }
   ],
   "source": [
    "arr1"
   ]
  },
  {
   "cell_type": "code",
   "execution_count": 35,
   "id": "8206ee3f-aa92-481a-b736-2ac44e0dce50",
   "metadata": {},
   "outputs": [
    {
     "data": {
      "text/plain": [
       "5"
      ]
     },
     "execution_count": 35,
     "metadata": {},
     "output_type": "execute_result"
    }
   ],
   "source": [
    "arr1.size"
   ]
  },
  {
   "cell_type": "code",
   "execution_count": 36,
   "id": "64b504ff-bd85-47ca-aa5f-de80b43d097e",
   "metadata": {},
   "outputs": [
    {
     "data": {
      "text/plain": [
       "8"
      ]
     },
     "execution_count": 36,
     "metadata": {},
     "output_type": "execute_result"
    }
   ],
   "source": [
    "arr9.size"
   ]
  },
  {
   "cell_type": "code",
   "execution_count": 37,
   "id": "f7b375de-0ad5-4af8-b45b-d8b8972e5d37",
   "metadata": {},
   "outputs": [
    {
     "data": {
      "text/plain": [
       "4"
      ]
     },
     "execution_count": 37,
     "metadata": {},
     "output_type": "execute_result"
    }
   ],
   "source": [
    "arr9.itemsize"
   ]
  },
  {
   "cell_type": "code",
   "execution_count": 38,
   "id": "ee67100a-ef29-4d53-ac0a-766c9d6e8964",
   "metadata": {},
   "outputs": [
    {
     "data": {
      "text/plain": [
       "8"
      ]
     },
     "execution_count": 38,
     "metadata": {},
     "output_type": "execute_result"
    }
   ],
   "source": [
    "arr8.itemsize"
   ]
  },
  {
   "cell_type": "code",
   "execution_count": 39,
   "id": "21c58c28-fad1-4212-945c-b057e8ec87fe",
   "metadata": {},
   "outputs": [
    {
     "data": {
      "text/plain": [
       "dtype('float64')"
      ]
     },
     "execution_count": 39,
     "metadata": {},
     "output_type": "execute_result"
    }
   ],
   "source": [
    "arr8.dtype"
   ]
  },
  {
   "cell_type": "code",
   "execution_count": 40,
   "id": "f27d1930-794f-4252-a918-538ae58a6fa3",
   "metadata": {},
   "outputs": [
    {
     "data": {
      "text/plain": [
       "dtype('int32')"
      ]
     },
     "execution_count": 40,
     "metadata": {},
     "output_type": "execute_result"
    }
   ],
   "source": [
    "arr9.dtype"
   ]
  },
  {
   "cell_type": "code",
   "execution_count": 41,
   "id": "7927fff8-4f8a-4f56-9b26-675595b349bb",
   "metadata": {},
   "outputs": [
    {
     "data": {
      "text/plain": [
       "array([[[1., 2.],\n",
       "        [3., 4.]],\n",
       "\n",
       "       [[5., 6.],\n",
       "        [7., 8.]]])"
      ]
     },
     "execution_count": 41,
     "metadata": {},
     "output_type": "execute_result"
    }
   ],
   "source": [
    "arr9.astype('float')"
   ]
  },
  {
   "cell_type": "markdown",
   "id": "0be5439f-aaf3-4b52-800f-aba7322ed1b8",
   "metadata": {},
   "source": [
    "Python List vs Numpy Array\n"
   ]
  },
  {
   "cell_type": "code",
   "execution_count": 42,
   "id": "8688b2a6-c07f-4c8c-a16f-087f24eac77a",
   "metadata": {},
   "outputs": [],
   "source": [
    "lista = range(100)\n",
    "arr11 = np.arange(100)"
   ]
  },
  {
   "cell_type": "code",
   "execution_count": 43,
   "id": "f9f0ae20-1070-471a-9117-e721d3215107",
   "metadata": {},
   "outputs": [],
   "source": [
    "#sys - system\n",
    "import sys "
   ]
  },
  {
   "cell_type": "code",
   "execution_count": 44,
   "id": "aa9393c4-9a15-463f-b70b-40aaaa6d3dd2",
   "metadata": {},
   "outputs": [
    {
     "name": "stdout",
     "output_type": "stream",
     "text": [
      "2800\n"
     ]
    }
   ],
   "source": [
    " print(sys.getsizeof(87)*len(lista))"
   ]
  },
  {
   "cell_type": "code",
   "execution_count": 45,
   "id": "84dc8f6a-b9ac-488c-a11f-e75985b6764a",
   "metadata": {},
   "outputs": [
    {
     "name": "stdout",
     "output_type": "stream",
     "text": [
      "400\n"
     ]
    }
   ],
   "source": [
    "print(arr11.itemsize*arr11.size)"
   ]
  },
  {
   "cell_type": "markdown",
   "id": "0b7a019c-f4fd-47bb-928c-45484b191f7c",
   "metadata": {},
   "source": [
    "NUMPY ARRAY STORES LESS MEMORY THAN  PYTHON LIST!"
   ]
  },
  {
   "cell_type": "code",
   "execution_count": 46,
   "id": "dc8453ee-b932-499b-82fd-d1acd679470e",
   "metadata": {},
   "outputs": [],
   "source": [
    "import time "
   ]
  },
  {
   "cell_type": "code",
   "execution_count": 47,
   "id": "329a6469-8c65-4199-8be9-c527e087b3d6",
   "metadata": {},
   "outputs": [
    {
     "name": "stdout",
     "output_type": "stream",
     "text": [
      "0.04212760925292969\n"
     ]
    }
   ],
   "source": [
    "x=range(100000)\n",
    "y=range(100000,200000)\n",
    "#time func gives the current time\n",
    "start_time=time.time()\n",
    "\n",
    "c=[x+y for x,y in zip(x,y)]  #running 1 lakh times\n",
    "\n",
    "print(time.time()-start_time)"
   ]
  },
  {
   "cell_type": "code",
   "execution_count": 48,
   "id": "17941363-9899-446c-a81e-e88e6f1ada39",
   "metadata": {},
   "outputs": [
    {
     "name": "stdout",
     "output_type": "stream",
     "text": [
      "0.009427070617675781\n"
     ]
    }
   ],
   "source": [
    "a=np.arange(100000)\n",
    "b=np.arange(100000,200000)\n",
    "\n",
    "start_time=time.time()\n",
    "c=a+b\n",
    "\n",
    "print(time.time()-start_time)"
   ]
  },
  {
   "cell_type": "markdown",
   "id": "4a5bf578-0d97-49aa-90e2-0ba0850f9c87",
   "metadata": {},
   "source": [
    "NUMPY IS FASTER THAN PYTHON LIST!"
   ]
  },
  {
   "cell_type": "markdown",
   "id": "04eca408-5fcb-420e-9cd9-0232ab24ec48",
   "metadata": {},
   "source": [
    "NUMPY IS M0RE CONVINIENT!"
   ]
  },
  {
   "cell_type": "code",
   "execution_count": 3,
   "id": "ac068341-dc45-457b-867f-408ac62ca169",
   "metadata": {},
   "outputs": [
    {
     "data": {
      "text/plain": [
       "array([ 0,  1,  2,  3,  4,  5,  6,  7,  8,  9, 10, 11, 12, 13, 14, 15, 16,\n",
       "       17, 18, 19, 20, 21, 22, 23])"
      ]
     },
     "execution_count": 3,
     "metadata": {},
     "output_type": "execute_result"
    }
   ],
   "source": [
    "#arr12=np.arange(24)\n",
    "#arr12"
   ]
  },
  {
   "cell_type": "code",
   "execution_count": 11,
   "id": "3f73570f-4ec8-4dbe-9bc9-25e20d49a4c0",
   "metadata": {},
   "outputs": [
    {
     "data": {
      "text/plain": [
       "array([[ 0,  1,  2,  3],\n",
       "       [ 4,  5,  6,  7],\n",
       "       [ 8,  9, 10, 11],\n",
       "       [12, 13, 14, 15],\n",
       "       [16, 17, 18, 19],\n",
       "       [20, 21, 22, 23]])"
      ]
     },
     "execution_count": 11,
     "metadata": {},
     "output_type": "execute_result"
    }
   ],
   "source": [
    "arr12=np.arange(24).reshape(6,4)\n",
    "arr12"
   ]
  },
  {
   "cell_type": "code",
   "execution_count": 9,
   "id": "56c367e0-ee7e-4a17-8d72-e879102429f3",
   "metadata": {},
   "outputs": [
    {
     "data": {
      "text/plain": [
       "array([[ 0,  1],\n",
       "       [ 2,  3],\n",
       "       [ 4,  5],\n",
       "       [ 6,  7],\n",
       "       [ 8,  9],\n",
       "       [10, 11],\n",
       "       [12, 13],\n",
       "       [14, 15],\n",
       "       [16, 17],\n",
       "       [18, 19],\n",
       "       [20, 21],\n",
       "       [22, 23]])"
      ]
     },
     "execution_count": 9,
     "metadata": {},
     "output_type": "execute_result"
    }
   ],
   "source": [
    "#arr12=np.arange(24).reshape(12,2)\n",
    "arr12"
   ]
  },
  {
   "cell_type": "markdown",
   "id": "364c8e46-3a08-412a-baa8-ff7c09558153",
   "metadata": {},
   "source": [
    "SLICING AND INDEXING"
   ]
  },
  {
   "cell_type": "code",
   "execution_count": 13,
   "id": "d7d7910d-c3f8-418e-9b46-d878359e156a",
   "metadata": {},
   "outputs": [
    {
     "data": {
      "text/plain": [
       "array([ 8,  9, 10, 11])"
      ]
     },
     "execution_count": 13,
     "metadata": {},
     "output_type": "execute_result"
    }
   ],
   "source": [
    "arr12[2]\n"
   ]
  },
  {
   "cell_type": "code",
   "execution_count": 15,
   "id": "48f7ef00-d541-4472-a091-57364a3fce93",
   "metadata": {},
   "outputs": [
    {
     "data": {
      "text/plain": [
       "array([[18, 19],\n",
       "       [22, 23]])"
      ]
     },
     "execution_count": 15,
     "metadata": {},
     "output_type": "execute_result"
    }
   ],
   "source": [
    "arr12[4:,2:]   #rows,col"
   ]
  },
  {
   "cell_type": "code",
   "execution_count": 16,
   "id": "f31e7011-1b29-4a11-977b-9ee2a239238d",
   "metadata": {},
   "outputs": [
    {
     "data": {
      "text/plain": [
       "array([[ 9, 10],\n",
       "       [13, 14]])"
      ]
     },
     "execution_count": 16,
     "metadata": {},
     "output_type": "execute_result"
    }
   ],
   "source": [
    "arr12[2:4,1:3]"
   ]
  },
  {
   "cell_type": "code",
   "execution_count": 17,
   "id": "b552888f-f082-436b-b00a-68053e7ca7fb",
   "metadata": {},
   "outputs": [
    {
     "data": {
      "text/plain": [
       "array([[ 0,  1,  2,  3],\n",
       "       [ 4,  5,  6,  7],\n",
       "       [ 8,  9, 10, 11],\n",
       "       [12, 13, 14, 15],\n",
       "       [16, 17, 18, 19],\n",
       "       [20, 21, 22, 23]])"
      ]
     },
     "execution_count": 17,
     "metadata": {},
     "output_type": "execute_result"
    }
   ],
   "source": [
    "arr12"
   ]
  },
  {
   "cell_type": "code",
   "execution_count": 18,
   "id": "7bb44b80-493d-4827-a3a9-d14fd1e3397a",
   "metadata": {},
   "outputs": [
    {
     "name": "stdout",
     "output_type": "stream",
     "text": [
      "[0 1 2 3]\n",
      "[4 5 6 7]\n",
      "[ 8  9 10 11]\n",
      "[12 13 14 15]\n",
      "[16 17 18 19]\n",
      "[20 21 22 23]\n"
     ]
    }
   ],
   "source": [
    "for i in arr12 :\n",
    "    print(i)"
   ]
  },
  {
   "cell_type": "code",
   "execution_count": 19,
   "id": "f80fa5af-61e0-42a9-80ca-750c72ba9104",
   "metadata": {},
   "outputs": [
    {
     "name": "stdout",
     "output_type": "stream",
     "text": [
      "0\n",
      "1\n",
      "2\n",
      "3\n",
      "4\n",
      "5\n",
      "6\n",
      "7\n",
      "8\n",
      "9\n",
      "10\n",
      "11\n",
      "12\n",
      "13\n",
      "14\n",
      "15\n",
      "16\n",
      "17\n",
      "18\n",
      "19\n",
      "20\n",
      "21\n",
      "22\n",
      "23\n"
     ]
    }
   ],
   "source": [
    "for i in np.nditer(arr12):  #nditeration  #to put filter at every pixel of an image we use this\n",
    "    print(i)"
   ]
  },
  {
   "cell_type": "markdown",
   "id": "8c151283-0bd8-4805-91d4-377a46568ce5",
   "metadata": {},
   "source": [
    "NUMPY OPERATIONS"
   ]
  },
  {
   "cell_type": "code",
   "execution_count": 58,
   "id": "8d18e4e1-9c6d-43e1-8e80-c00af5995991",
   "metadata": {},
   "outputs": [],
   "source": [
    "import numpy as np"
   ]
  },
  {
   "cell_type": "markdown",
   "id": "4739d880-eeb7-461d-b128-e47d8a60aab6",
   "metadata": {},
   "source": [
    "NUMPY OPERATIONS"
   ]
  },
  {
   "cell_type": "code",
   "execution_count": 5,
   "id": "29782335-27cc-4ba3-8f6d-dc678ad04041",
   "metadata": {},
   "outputs": [],
   "source": [
    "arr1=np.array([1,2,3,4,5,6])\n",
    "arr2=np.array([4,5,6,7,8,9])"
   ]
  },
  {
   "cell_type": "code",
   "execution_count": 24,
   "id": "5a4d2281-561f-40a3-aa1d-7468d635392d",
   "metadata": {},
   "outputs": [
    {
     "data": {
      "text/plain": [
       "array([-3, -3, -3, -3, -3, -3])"
      ]
     },
     "execution_count": 24,
     "metadata": {},
     "output_type": "execute_result"
    }
   ],
   "source": [
    "arr1-arr2  #element-wise subtraction"
   ]
  },
  {
   "cell_type": "code",
   "execution_count": 28,
   "id": "7cef7449-ca57-4b17-9e15-732c3f4c7db5",
   "metadata": {},
   "outputs": [
    {
     "data": {
      "text/plain": [
       "array([ 4, 10, 18, 28, 40, 54])"
      ]
     },
     "execution_count": 28,
     "metadata": {},
     "output_type": "execute_result"
    }
   ],
   "source": [
    "arr1*arr2 #vector multiplication"
   ]
  },
  {
   "cell_type": "code",
   "execution_count": 27,
   "id": "53fd65a0-e468-40a6-9f55-a68117327939",
   "metadata": {},
   "outputs": [
    {
     "data": {
      "text/plain": [
       "array([ 2,  4,  6,  8, 10, 12])"
      ]
     },
     "execution_count": 27,
     "metadata": {},
     "output_type": "execute_result"
    }
   ],
   "source": [
    "arr1*2  #every element will be multiplied by 2 , also called scalar multiplication"
   ]
  },
  {
   "cell_type": "code",
   "execution_count": 29,
   "id": "be9c8c5f-e7bb-4b02-9406-ea2a668f63f8",
   "metadata": {},
   "outputs": [
    {
     "data": {
      "text/plain": [
       "array([ True,  True,  True,  True,  True,  True])"
      ]
     },
     "execution_count": 29,
     "metadata": {},
     "output_type": "execute_result"
    }
   ],
   "source": [
    "arr2>3"
   ]
  },
  {
   "cell_type": "code",
   "execution_count": 2,
   "id": "1a46693e-fdde-43ad-ba9a-e8db4d40ffcb",
   "metadata": {},
   "outputs": [],
   "source": [
    "arr3=np.arange(6).reshape(2,3)\n",
    "arr4=np.arange(6,12).reshape(3,2)"
   ]
  },
  {
   "cell_type": "code",
   "execution_count": 3,
   "id": "2bc79b02-de17-4f1d-9f45-6b887f8d5ea6",
   "metadata": {},
   "outputs": [
    {
     "data": {
      "text/plain": [
       "array([[ 28,  31],\n",
       "       [100, 112]])"
      ]
     },
     "execution_count": 3,
     "metadata": {},
     "output_type": "execute_result"
    }
   ],
   "source": [
    "arr3.dot(arr4)  #2*3 3*2"
   ]
  },
  {
   "cell_type": "code",
   "execution_count": 6,
   "id": "44c8fba3-824e-4a00-8279-5b7357afdb2e",
   "metadata": {},
   "outputs": [
    {
     "data": {
      "text/plain": [
       "154"
      ]
     },
     "execution_count": 6,
     "metadata": {},
     "output_type": "execute_result"
    }
   ],
   "source": [
    "arr1.dot(arr2)"
   ]
  },
  {
   "cell_type": "code",
   "execution_count": 7,
   "id": "8cad7ded-7c2e-456b-ac16-80cb60faf363",
   "metadata": {},
   "outputs": [
    {
     "data": {
      "text/plain": [
       "array([[0, 1, 2],\n",
       "       [3, 4, 5]])"
      ]
     },
     "execution_count": 7,
     "metadata": {},
     "output_type": "execute_result"
    }
   ],
   "source": [
    "arr3"
   ]
  },
  {
   "cell_type": "code",
   "execution_count": 8,
   "id": "2648ef0c-98c7-49e1-b81f-7e50063f7f77",
   "metadata": {},
   "outputs": [
    {
     "data": {
      "text/plain": [
       "array([1, 2, 3, 4, 5, 6])"
      ]
     },
     "execution_count": 8,
     "metadata": {},
     "output_type": "execute_result"
    }
   ],
   "source": [
    "arr1"
   ]
  },
  {
   "cell_type": "code",
   "execution_count": 9,
   "id": "de0a0f5d-5026-454d-be81-7430cdd98ef0",
   "metadata": {},
   "outputs": [
    {
     "ename": "ValueError",
     "evalue": "shapes (6,) and (2,3) not aligned: 6 (dim 0) != 2 (dim 0)",
     "output_type": "error",
     "traceback": [
      "\u001b[1;31m---------------------------------------------------------------------------\u001b[0m",
      "\u001b[1;31mValueError\u001b[0m                                Traceback (most recent call last)",
      "Cell \u001b[1;32mIn[9], line 1\u001b[0m\n\u001b[1;32m----> 1\u001b[0m arr1\u001b[38;5;241m.\u001b[39mdot(arr3)\n",
      "\u001b[1;31mValueError\u001b[0m: shapes (6,) and (2,3) not aligned: 6 (dim 0) != 2 (dim 0)"
     ]
    }
   ],
   "source": [
    "arr1.dot(arr3) #error"
   ]
  },
  {
   "cell_type": "code",
   "execution_count": 10,
   "id": "4e8d94df-56e0-4f4c-83a6-fe6392744430",
   "metadata": {},
   "outputs": [
    {
     "data": {
      "text/plain": [
       "array([[ 6,  7],\n",
       "       [ 8,  9],\n",
       "       [10, 11]])"
      ]
     },
     "execution_count": 10,
     "metadata": {},
     "output_type": "execute_result"
    }
   ],
   "source": [
    "arr4"
   ]
  },
  {
   "cell_type": "code",
   "execution_count": 11,
   "id": "1dca936f-ce41-46a1-9212-981c02aa98c8",
   "metadata": {},
   "outputs": [
    {
     "data": {
      "text/plain": [
       "11"
      ]
     },
     "execution_count": 11,
     "metadata": {},
     "output_type": "execute_result"
    }
   ],
   "source": [
    "arr4.max()"
   ]
  },
  {
   "cell_type": "code",
   "execution_count": 12,
   "id": "4719962f-b6af-4a1d-8c1f-815aa4f1c8a8",
   "metadata": {},
   "outputs": [
    {
     "data": {
      "text/plain": [
       "6"
      ]
     },
     "execution_count": 12,
     "metadata": {},
     "output_type": "execute_result"
    }
   ],
   "source": [
    "arr4.min()"
   ]
  },
  {
   "cell_type": "code",
   "execution_count": 14,
   "id": "1a3cdbe8-b7f7-4348-b43e-7d7ea170589c",
   "metadata": {},
   "outputs": [
    {
     "data": {
      "text/plain": [
       "array([6, 7])"
      ]
     },
     "execution_count": 14,
     "metadata": {},
     "output_type": "execute_result"
    }
   ],
   "source": [
    "arr4.min(axis=0) #col-wise"
   ]
  },
  {
   "cell_type": "code",
   "execution_count": 15,
   "id": "b35ee7c3-d822-44be-b4c8-5b22a7f2a76c",
   "metadata": {},
   "outputs": [
    {
     "data": {
      "text/plain": [
       "array([ 6,  8, 10])"
      ]
     },
     "execution_count": 15,
     "metadata": {},
     "output_type": "execute_result"
    }
   ],
   "source": [
    "arr4.min(axis=1) #row-wise"
   ]
  },
  {
   "cell_type": "code",
   "execution_count": 17,
   "id": "c5188350-6a91-44de-a920-82c0314adc7d",
   "metadata": {},
   "outputs": [
    {
     "data": {
      "text/plain": [
       "51"
      ]
     },
     "execution_count": 17,
     "metadata": {},
     "output_type": "execute_result"
    }
   ],
   "source": [
    "arr4.sum()"
   ]
  },
  {
   "cell_type": "code",
   "execution_count": 18,
   "id": "0b48c655-5b55-4cf0-9c07-d6e2a4a56ad8",
   "metadata": {},
   "outputs": [
    {
     "data": {
      "text/plain": [
       "array([24, 27])"
      ]
     },
     "execution_count": 18,
     "metadata": {},
     "output_type": "execute_result"
    }
   ],
   "source": [
    "arr4.sum(axis=0) #col-wise sum"
   ]
  },
  {
   "cell_type": "code",
   "execution_count": 19,
   "id": "32e8ecdd-2dbc-41ac-8688-4ef9fd86edac",
   "metadata": {},
   "outputs": [
    {
     "data": {
      "text/plain": [
       "8.5"
      ]
     },
     "execution_count": 19,
     "metadata": {},
     "output_type": "execute_result"
    }
   ],
   "source": [
    "arr4.mean()"
   ]
  },
  {
   "cell_type": "code",
   "execution_count": 20,
   "id": "a5704157-7515-4ad2-abfb-e6300dece759",
   "metadata": {},
   "outputs": [
    {
     "ename": "AttributeError",
     "evalue": "'numpy.ndarray' object has no attribute 'median'",
     "output_type": "error",
     "traceback": [
      "\u001b[1;31m---------------------------------------------------------------------------\u001b[0m",
      "\u001b[1;31mAttributeError\u001b[0m                            Traceback (most recent call last)",
      "Cell \u001b[1;32mIn[20], line 1\u001b[0m\n\u001b[1;32m----> 1\u001b[0m arr4\u001b[38;5;241m.\u001b[39mmedian()\n",
      "\u001b[1;31mAttributeError\u001b[0m: 'numpy.ndarray' object has no attribute 'median'"
     ]
    }
   ],
   "source": [
    "arr4.median()"
   ]
  },
  {
   "cell_type": "code",
   "execution_count": 24,
   "id": "0c136125-92fa-4506-b463-c86bf16c628f",
   "metadata": {},
   "outputs": [
    {
     "data": {
      "text/plain": [
       "1.707825127659933"
      ]
     },
     "execution_count": 24,
     "metadata": {},
     "output_type": "execute_result"
    }
   ],
   "source": [
    "arr4.std() "
   ]
  },
  {
   "cell_type": "markdown",
   "id": "7b90215a-8eaf-4d44-a207-33e76d393fb1",
   "metadata": {},
   "source": [
    "static functions ko ase access kerenge (universal functions)"
   ]
  },
  {
   "cell_type": "code",
   "execution_count": 22,
   "id": "66772bc8-2613-46c7-a0ee-46b9cb6b2bea",
   "metadata": {},
   "outputs": [
    {
     "data": {
      "text/plain": [
       "array([[-0.2794155 ,  0.6569866 ],\n",
       "       [ 0.98935825,  0.41211849],\n",
       "       [-0.54402111, -0.99999021]])"
      ]
     },
     "execution_count": 22,
     "metadata": {},
     "output_type": "execute_result"
    }
   ],
   "source": [
    "np.sin(arr4)"
   ]
  },
  {
   "cell_type": "code",
   "execution_count": 23,
   "id": "7620092a-f9bf-43fd-b49a-f75ffff79c41",
   "metadata": {},
   "outputs": [
    {
     "data": {
      "text/plain": [
       "8.5"
      ]
     },
     "execution_count": 23,
     "metadata": {},
     "output_type": "execute_result"
    }
   ],
   "source": [
    "np.median(arr4)"
   ]
  },
  {
   "cell_type": "code",
   "execution_count": 25,
   "id": "ff0565ec-71b5-4f10-93b1-4a208706f7bd",
   "metadata": {},
   "outputs": [
    {
     "data": {
      "text/plain": [
       "array([[  403.42879349,  1096.63315843],\n",
       "       [ 2980.95798704,  8103.08392758],\n",
       "       [22026.46579481, 59874.1417152 ]])"
      ]
     },
     "execution_count": 25,
     "metadata": {},
     "output_type": "execute_result"
    }
   ],
   "source": [
    "np.exp(arr4)"
   ]
  },
  {
   "cell_type": "markdown",
   "id": "a2954377-71fa-4b33-b9c0-6d34df80e325",
   "metadata": {},
   "source": [
    "RESHAPING NUMPY ARRAYS"
   ]
  },
  {
   "cell_type": "code",
   "execution_count": 26,
   "id": "6cad848d-a9fd-4d79-9a7f-9c55ab7ef27b",
   "metadata": {},
   "outputs": [
    {
     "data": {
      "text/plain": [
       "2"
      ]
     },
     "execution_count": 26,
     "metadata": {},
     "output_type": "execute_result"
    }
   ],
   "source": [
    "arr4.ndim"
   ]
  },
  {
   "cell_type": "code",
   "execution_count": 28,
   "id": "8cf4ffb1-eabc-4452-ac50-68ea7b8d190c",
   "metadata": {},
   "outputs": [
    {
     "data": {
      "text/plain": [
       "array([ 6,  7,  8,  9, 10, 11])"
      ]
     },
     "execution_count": 28,
     "metadata": {},
     "output_type": "execute_result"
    }
   ],
   "source": [
    "arr4.ravel() # converts higher dim array into 1 d arrays without loosing any info"
   ]
  },
  {
   "cell_type": "code",
   "execution_count": 29,
   "id": "c6d88a2a-621e-4d13-8ff1-134b02805ca7",
   "metadata": {},
   "outputs": [
    {
     "data": {
      "text/plain": [
       "array([[ 6,  8, 10],\n",
       "       [ 7,  9, 11]])"
      ]
     },
     "execution_count": 29,
     "metadata": {},
     "output_type": "execute_result"
    }
   ],
   "source": [
    "arr4.transpose()"
   ]
  },
  {
   "cell_type": "code",
   "execution_count": 30,
   "id": "840b6d17-e8e8-4be6-9ae8-482f7283e221",
   "metadata": {},
   "outputs": [],
   "source": [
    "arr5=np.arange(12,18).reshape(2,3)"
   ]
  },
  {
   "cell_type": "code",
   "execution_count": 32,
   "id": "f12463ca-57ca-4cca-bd80-506de6d199f3",
   "metadata": {},
   "outputs": [
    {
     "data": {
      "text/plain": [
       "array([[ 0,  1,  2, 12, 13, 14],\n",
       "       [ 3,  4,  5, 15, 16, 17]])"
      ]
     },
     "execution_count": 32,
     "metadata": {},
     "output_type": "execute_result"
    }
   ],
   "source": [
    "np.hstack((arr3,arr5))   "
   ]
  },
  {
   "cell_type": "code",
   "execution_count": 37,
   "id": "16d706a4-8c0a-4982-acc8-b46005fccb5a",
   "metadata": {},
   "outputs": [
    {
     "data": {
      "text/plain": [
       "array([[ 0,  1,  2],\n",
       "       [ 3,  4,  5],\n",
       "       [12, 13, 14],\n",
       "       [15, 16, 17]])"
      ]
     },
     "execution_count": 37,
     "metadata": {},
     "output_type": "execute_result"
    }
   ],
   "source": [
    "np.vstack((arr3,arr5))  #diffrent branches me diff exams but same cols h - vstack"
   ]
  },
  {
   "cell_type": "code",
   "execution_count": 34,
   "id": "2aca5fd2-a805-4f13-b02c-cd01ff9c55dc",
   "metadata": {},
   "outputs": [
    {
     "data": {
      "text/plain": [
       "[array([[0],\n",
       "        [3]]),\n",
       " array([[1],\n",
       "        [4]]),\n",
       " array([[2],\n",
       "        [5]])]"
      ]
     },
     "execution_count": 34,
     "metadata": {},
     "output_type": "execute_result"
    }
   ],
   "source": [
    "np.hsplit(arr3,3)"
   ]
  },
  {
   "cell_type": "code",
   "execution_count": 38,
   "id": "596f9c1d-1781-40d9-833a-d9af08a39873",
   "metadata": {},
   "outputs": [
    {
     "data": {
      "text/plain": [
       "[array([[0, 1, 2]]), array([[3, 4, 5]])]"
      ]
     },
     "execution_count": 38,
     "metadata": {},
     "output_type": "execute_result"
    }
   ],
   "source": [
    "np.vsplit(arr3,2) #branch wise sort sec of students alphabetically split- assuming same no of students in each branch"
   ]
  },
  {
   "cell_type": "code",
   "execution_count": 36,
   "id": "629e4893-455a-48a7-9d0e-70b3a26f61aa",
   "metadata": {},
   "outputs": [
    {
     "data": {
      "text/plain": [
       "array([[0, 1, 2],\n",
       "       [3, 4, 5]])"
      ]
     },
     "execution_count": 36,
     "metadata": {},
     "output_type": "execute_result"
    }
   ],
   "source": [
    "arr3"
   ]
  },
  {
   "cell_type": "markdown",
   "id": "d0905130-c9f6-42c8-9e4c-e7a320ae75d7",
   "metadata": {},
   "source": [
    " FANCY INDEXING IN NUMPY"
   ]
  },
  {
   "cell_type": "code",
   "execution_count": 39,
   "id": "a79f1571-6e6e-49f6-b09a-dc74b42173ca",
   "metadata": {},
   "outputs": [
    {
     "data": {
      "text/plain": [
       "array([[ 0,  1,  2,  3],\n",
       "       [ 4,  5,  6,  7],\n",
       "       [ 8,  9, 10, 11],\n",
       "       [12, 13, 14, 15],\n",
       "       [16, 17, 18, 19],\n",
       "       [20, 21, 22, 23]])"
      ]
     },
     "execution_count": 39,
     "metadata": {},
     "output_type": "execute_result"
    }
   ],
   "source": [
    "arr8=np.arange(24).reshape(6,4)\n",
    "arr8"
   ]
  },
  {
   "cell_type": "code",
   "execution_count": 40,
   "id": "9684bfe2-e488-475e-82b0-5b0079d9ffc9",
   "metadata": {},
   "outputs": [
    {
     "data": {
      "text/plain": [
       "array([[ 0,  1,  2,  3],\n",
       "       [ 8,  9, 10, 11],\n",
       "       [16, 17, 18, 19]])"
      ]
     },
     "execution_count": 40,
     "metadata": {},
     "output_type": "execute_result"
    }
   ],
   "source": [
    "arr8[[0,2,4]]"
   ]
  },
  {
   "cell_type": "markdown",
   "id": "e8afc6ec-15a1-4fd9-a91f-4e8be8a76229",
   "metadata": {},
   "source": [
    "INDEXING USING BOOLEAN ARRAYS"
   ]
  },
  {
   "cell_type": "code",
   "execution_count": 41,
   "id": "1ee8615e-7577-494d-affe-dc3c447b4090",
   "metadata": {},
   "outputs": [
    {
     "data": {
      "text/plain": [
       "array([[63, 33, 37, 80, 27],\n",
       "       [26, 65, 26, 71, 66],\n",
       "       [21, 15, 84, 47, 66],\n",
       "       [33, 82, 75,  3, 25]])"
      ]
     },
     "execution_count": 41,
     "metadata": {},
     "output_type": "execute_result"
    }
   ],
   "source": [
    "arr=np.random.randint(low=1,high=100,size=20).reshape(4,5)\n",
    "arr"
   ]
  },
  {
   "cell_type": "code",
   "execution_count": 42,
   "id": "3bfea4cc-1112-4da7-b729-b2310eadf7bc",
   "metadata": {},
   "outputs": [
    {
     "data": {
      "text/plain": [
       "array([63, 33, 37, 80, 27])"
      ]
     },
     "execution_count": 42,
     "metadata": {},
     "output_type": "execute_result"
    }
   ],
   "source": [
    "arr[0]"
   ]
  },
  {
   "cell_type": "code",
   "execution_count": 44,
   "id": "5ece6437-ebb1-4f18-8921-f96afb6c67a3",
   "metadata": {},
   "outputs": [
    {
     "data": {
      "text/plain": [
       "array([[ True, False, False,  True, False],\n",
       "       [False,  True, False,  True,  True],\n",
       "       [False, False,  True, False,  True],\n",
       "       [False,  True,  True, False, False]])"
      ]
     },
     "execution_count": 44,
     "metadata": {},
     "output_type": "execute_result"
    }
   ],
   "source": [
    "#conditional indexing\n",
    "arr>50  #boolean array"
   ]
  },
  {
   "cell_type": "code",
   "execution_count": 46,
   "id": "4347b3d1-15d3-4af3-a0f2-2105a878129e",
   "metadata": {},
   "outputs": [
    {
     "data": {
      "text/plain": [
       "array([63, 80, 65, 71, 66, 84, 66, 82, 75])"
      ]
     },
     "execution_count": 46,
     "metadata": {},
     "output_type": "execute_result"
    }
   ],
   "source": [
    "#indexing using boolean arrays\n",
    "arr[arr>50]"
   ]
  },
  {
   "cell_type": "code",
   "execution_count": 47,
   "id": "99169b67-17b4-4496-a225-a6b8b777d7af",
   "metadata": {},
   "outputs": [
    {
     "data": {
      "text/plain": [
       "array([63, 65, 71, 75])"
      ]
     },
     "execution_count": 47,
     "metadata": {},
     "output_type": "execute_result"
    }
   ],
   "source": [
    "arr[(arr>50) & (arr%2!=0) ]"
   ]
  },
  {
   "cell_type": "code",
   "execution_count": 49,
   "id": "d1c515ba-bb46-4a1f-9c67-53e9a6f35970",
   "metadata": {},
   "outputs": [
    {
     "data": {
      "text/plain": [
       "array([[ 0, 33, 37, 80, 27],\n",
       "       [26,  0, 26,  0, 66],\n",
       "       [21, 15, 84, 47, 66],\n",
       "       [33, 82,  0,  3, 25]])"
      ]
     },
     "execution_count": 49,
     "metadata": {},
     "output_type": "execute_result"
    }
   ],
   "source": [
    "arr[(arr>50) & (arr%2!=0) ] = 0  #where this condition is true - vaha 0 hogye\n",
    "arr"
   ]
  },
  {
   "cell_type": "markdown",
   "id": "4bdb8187-a01d-417f-bcb3-32ce3b49446e",
   "metadata": {},
   "source": [
    "PLOTTING GRAPHS USING NUMPY"
   ]
  },
  {
   "cell_type": "code",
   "execution_count": 59,
   "id": "d1cebaa6-3cc7-4190-b3f3-bd880e98a4ff",
   "metadata": {},
   "outputs": [
    {
     "data": {
      "text/plain": [
       "array([-40.        , -39.19191919, -38.38383838, -37.57575758,\n",
       "       -36.76767677, -35.95959596, -35.15151515, -34.34343434,\n",
       "       -33.53535354, -32.72727273, -31.91919192, -31.11111111,\n",
       "       -30.3030303 , -29.49494949, -28.68686869, -27.87878788,\n",
       "       -27.07070707, -26.26262626, -25.45454545, -24.64646465,\n",
       "       -23.83838384, -23.03030303, -22.22222222, -21.41414141,\n",
       "       -20.60606061, -19.7979798 , -18.98989899, -18.18181818,\n",
       "       -17.37373737, -16.56565657, -15.75757576, -14.94949495,\n",
       "       -14.14141414, -13.33333333, -12.52525253, -11.71717172,\n",
       "       -10.90909091, -10.1010101 ,  -9.29292929,  -8.48484848,\n",
       "        -7.67676768,  -6.86868687,  -6.06060606,  -5.25252525,\n",
       "        -4.44444444,  -3.63636364,  -2.82828283,  -2.02020202,\n",
       "        -1.21212121,  -0.4040404 ,   0.4040404 ,   1.21212121,\n",
       "         2.02020202,   2.82828283,   3.63636364,   4.44444444,\n",
       "         5.25252525,   6.06060606,   6.86868687,   7.67676768,\n",
       "         8.48484848,   9.29292929,  10.1010101 ,  10.90909091,\n",
       "        11.71717172,  12.52525253,  13.33333333,  14.14141414,\n",
       "        14.94949495,  15.75757576,  16.56565657,  17.37373737,\n",
       "        18.18181818,  18.98989899,  19.7979798 ,  20.60606061,\n",
       "        21.41414141,  22.22222222,  23.03030303,  23.83838384,\n",
       "        24.64646465,  25.45454545,  26.26262626,  27.07070707,\n",
       "        27.87878788,  28.68686869,  29.49494949,  30.3030303 ,\n",
       "        31.11111111,  31.91919192,  32.72727273,  33.53535354,\n",
       "        34.34343434,  35.15151515,  35.95959596,  36.76767677,\n",
       "        37.57575758,  38.38383838,  39.19191919,  40.        ])"
      ]
     },
     "execution_count": 59,
     "metadata": {},
     "output_type": "execute_result"
    }
   ],
   "source": [
    "x=np.linspace(-40,40,100)\n",
    "x"
   ]
  },
  {
   "cell_type": "code",
   "execution_count": 60,
   "id": "0808b87f-4b81-4f95-8e79-6257378fc1a3",
   "metadata": {},
   "outputs": [
    {
     "data": {
      "text/plain": [
       "100"
      ]
     },
     "execution_count": 60,
     "metadata": {},
     "output_type": "execute_result"
    }
   ],
   "source": [
    "x.size"
   ]
  },
  {
   "cell_type": "code",
   "execution_count": 61,
   "id": "447109af-0d93-4301-a612-10eca0ddc014",
   "metadata": {},
   "outputs": [
    {
     "data": {
      "text/plain": [
       "array([-0.74511316, -0.9969604 , -0.63246122,  0.12304167,  0.80247705,\n",
       "        0.98580059,  0.55967698, -0.21245326, -0.85323945, -0.96653119,\n",
       "       -0.48228862,  0.30011711,  0.89698277,  0.93931073,  0.40093277,\n",
       "       -0.38531209, -0.93334716, -0.90436313, -0.31627868,  0.46733734,\n",
       "        0.96203346,  0.86197589,  0.22902277, -0.54551809, -0.9828057 ,\n",
       "       -0.81249769, -0.13988282,  0.61921119,  0.995493  ,  0.75633557,\n",
       "        0.04959214, -0.68781042, -0.99999098, -0.69395153,  0.0411065 ,\n",
       "        0.75075145,  0.99626264,  0.62585878, -0.13146699, -0.8075165 ,\n",
       "       -0.98433866, -0.55261747,  0.22074597,  0.85763861,  0.96431712,\n",
       "        0.47483011, -0.30820902, -0.90070545, -0.93636273, -0.39313661,\n",
       "        0.39313661,  0.93636273,  0.90070545,  0.30820902, -0.47483011,\n",
       "       -0.96431712, -0.85763861, -0.22074597,  0.55261747,  0.98433866,\n",
       "        0.8075165 ,  0.13146699, -0.62585878, -0.99626264, -0.75075145,\n",
       "       -0.0411065 ,  0.69395153,  0.99999098,  0.68781042, -0.04959214,\n",
       "       -0.75633557, -0.995493  , -0.61921119,  0.13988282,  0.81249769,\n",
       "        0.9828057 ,  0.54551809, -0.22902277, -0.86197589, -0.96203346,\n",
       "       -0.46733734,  0.31627868,  0.90436313,  0.93334716,  0.38531209,\n",
       "       -0.40093277, -0.93931073, -0.89698277, -0.30011711,  0.48228862,\n",
       "        0.96653119,  0.85323945,  0.21245326, -0.55967698, -0.98580059,\n",
       "       -0.80247705, -0.12304167,  0.63246122,  0.9969604 ,  0.74511316])"
      ]
     },
     "execution_count": 61,
     "metadata": {},
     "output_type": "execute_result"
    }
   ],
   "source": [
    "y=np.sin(x)\n",
    "y"
   ]
  },
  {
   "cell_type": "code",
   "execution_count": 62,
   "id": "188bf3f1-cf44-4e4c-960c-95a14fa9348b",
   "metadata": {},
   "outputs": [
    {
     "data": {
      "text/plain": [
       "100"
      ]
     },
     "execution_count": 62,
     "metadata": {},
     "output_type": "execute_result"
    }
   ],
   "source": [
    "y.size"
   ]
  },
  {
   "cell_type": "code",
   "execution_count": 63,
   "id": "3ea42676-b85e-4ea2-87b0-1d14c0001eca",
   "metadata": {},
   "outputs": [],
   "source": [
    "import matplotlib.pyplot as plt\n",
    "%matplotlib inline"
   ]
  },
  {
   "cell_type": "code",
   "execution_count": 64,
   "id": "632d8cee-251a-4c42-8cab-552374877acb",
   "metadata": {},
   "outputs": [
    {
     "data": {
      "text/plain": [
       "[<matplotlib.lines.Line2D at 0x256b3283d70>]"
      ]
     },
     "execution_count": 64,
     "metadata": {},
     "output_type": "execute_result"
    }
   ],
   "source": [
    "plt.plot(x,y)"
   ]
  },
  {
   "cell_type": "code",
   "execution_count": 65,
   "id": "b3f8161c-c9d6-4a35-8e4b-9cf5f0e664c4",
   "metadata": {},
   "outputs": [
    {
     "data": {
      "image/png": "[encoded data removed]",
      "text/plain": [
       "<Figure size 640x480 with 1 Axes>"
      ]
     },
     "metadata": {},
     "output_type": "display_data"
    }
   ],
   "source": [
    "plt.show()"
   ]
  },
  {
   "cell_type": "code",
   "execution_count": 66,
   "id": "13222a11-a8cc-4d65-bf93-b685b8a957eb",
   "metadata": {},
   "outputs": [],
   "source": [
    "y=x*x+2*x+6"
   ]
  },
  {
   "cell_type": "code",
   "execution_count": 67,
   "id": "ad52fba5-3301-4a6e-b56f-f95bfb8e532a",
   "metadata": {},
   "outputs": [
    {
     "data": {
      "image/png": "[encoded data removed]",
      "text/plain": [
       "<Figure size 640x480 with 1 Axes>"
      ]
     },
     "metadata": {},
     "output_type": "display_data"
    }
   ],
   "source": [
    "plt.plot(x,y)\n",
    "plt.show()"
   ]
  },
  {
   "cell_type": "code",
   "execution_count": null,
   "id": "1bd6ec4a-738c-4331-a238-49fa5d83cc2a",
   "metadata": {},
   "outputs": [],
   "source": []
  }
 ],
 "metadata": {
  "kernelspec": {
   "display_name": "Python 3 (ipykernel)",
   "language": "python",
   "name": "python3"
  },
  "language_info": {
   "codemirror_mode": {
    "name": "ipython",
    "version": 3
   },
   "file_extension": ".py",
   "mimetype": "text/x-python",
   "name": "python",
   "nbconvert_exporter": "python",
   "pygments_lexer": "ipython3",
   "version": "3.12.7"
  }
 },
 "nbformat": 4,
 "nbformat_minor": 5
}
